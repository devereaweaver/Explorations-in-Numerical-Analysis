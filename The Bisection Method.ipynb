{
 "cells": [
  {
   "cell_type": "markdown",
   "id": "e0237359-e867-4d3b-a7c5-09dba6dcd921",
   "metadata": {},
   "source": [
    "# The Bisection Method \n",
    "\n",
    "The details aren't covered here, but we know that this method continuously bisects an interval until an good approximation of the function root is found. \n",
    "\n",
    "As an exploratory example, "
   ]
  },
  {
   "cell_type": "code",
   "execution_count": 3,
   "id": "7ae62b63-eb28-4f54-93b7-6b4aa7a56e95",
   "metadata": {},
   "outputs": [],
   "source": [
    "import math\n",
    "import numpy as np \n",
    "import matplotlib.pyplot as plt"
   ]
  },
  {
   "cell_type": "code",
   "execution_count": 4,
   "id": "ee59feb2-5fb4-4715-85c6-9d0360b325ba",
   "metadata": {},
   "outputs": [],
   "source": [
    "a=0    # lower endpoint"
   ]
  },
  {
   "cell_type": "code",
   "execution_count": 5,
   "id": "c39273a0-a591-480e-aa93-0893b8a1b469",
   "metadata": {},
   "outputs": [],
   "source": [
    "b=math.pi/2    # upper endpoint "
   ]
  },
  {
   "cell_type": "code",
   "execution_count": 6,
   "id": "ddd9c904-2e63-4dc5-bf81-d699ba00433f",
   "metadata": {},
   "outputs": [],
   "source": [
    "# function to find root\n",
    "def f(x):\n",
    "    return (x - math.cos(x))"
   ]
  },
  {
   "cell_type": "code",
   "execution_count": 7,
   "id": "63d2c4c7-a8e9-4506-a40a-8ab8f0eb3a57",
   "metadata": {},
   "outputs": [],
   "source": [
    "x = np.linspace(a, b, 100)    # generate vector of 100 evenly spaces points over interval"
   ]
  },
  {
   "cell_type": "code",
   "execution_count": 8,
   "id": "cd3af146-e03f-48f3-9607-faa0138c4b05",
   "metadata": {},
   "outputs": [],
   "source": [
    "vf = np.vectorize(f)    # create a vectorized version of the function f"
   ]
  },
  {
   "cell_type": "code",
   "execution_count": 10,
   "id": "eb4b8db4-8dd8-4f42-9f7d-15cb8124c56e",
   "metadata": {},
   "outputs": [
    {
     "data": {
      "image/png": "[encoded data removed]",
      "text/plain": [
       "<Figure size 640x480 with 1 Axes>"
      ]
     },
     "metadata": {},
     "output_type": "display_data"
    }
   ],
   "source": [
    "plt.plot(x, vf(x), 'k')    # plot function using vectorized function and vector of inputs, 'k' = black \n",
    "plt.title('f(x) = x - cos(x)')    # add title \n",
    "plt.xlabel('x')\n",
    "plt.ylabel('f(x)')\n",
    "plt.plot([a,b], [0,0], 'k')    # add horizontal line at 0 across interval since this is the releveant portion of the x-axis (our root lies here)\n",
    "m=(a+b)/2    # compute mid-point of interval\n",
    "plt.plot(m, f(m), 'ro')    # graph midpoint \n",
    "plt.text(0.7, -0.15, r'$x_1 = \\pi/4$')    # add label to midpoint \n",
    "plt.axis([0, math.pi/2, -1, math.pi/2]);   # adjust axes to fit only interval"
   ]
  },
  {
   "cell_type": "markdown",
   "id": "6d0f4b76-f65b-421a-ba08-382fabf0b30d",
   "metadata": {},
   "source": [
    "<br>From this graph, it is clear that over the given interval, $f$ changes signs. By the IVT, $\\exists x \\in (a,b) \\ni f(x) = 0$.\n",
    "\n",
    "Let's examine the current values of $f$ at $a$, $b$ and $m$,"
   ]
  },
  {
   "cell_type": "code",
   "execution_count": 11,
   "id": "e81bc917-59d4-442c-95e3-ffcde2ec3f04",
   "metadata": {},
   "outputs": [
    {
     "data": {
      "text/plain": [
       "-1.0"
      ]
     },
     "execution_count": 11,
     "metadata": {},
     "output_type": "execute_result"
    }
   ],
   "source": [
    "f(a)"
   ]
  },
  {
   "cell_type": "code",
   "execution_count": 12,
   "id": "266d62e4-3b63-490a-b808-ba9d9a494a51",
   "metadata": {},
   "outputs": [
    {
     "data": {
      "text/plain": [
       "1.5707963267948966"
      ]
     },
     "execution_count": 12,
     "metadata": {},
     "output_type": "execute_result"
    }
   ],
   "source": [
    "f(b)"
   ]
  },
  {
   "cell_type": "code",
   "execution_count": 13,
   "id": "735b3dea-95ef-48c8-a4cc-1d53a25f6d2e",
   "metadata": {},
   "outputs": [
    {
     "data": {
      "text/plain": [
       "0.0782913822109007"
      ]
     },
     "execution_count": 13,
     "metadata": {},
     "output_type": "execute_result"
    }
   ],
   "source": [
    "f(m)"
   ]
  },
  {
   "cell_type": "markdown",
   "id": "4c2fbb89-935e-46b4-a34f-a0dcf751da9c",
   "metadata": {},
   "source": [
    "<br>From these results, we can see that $m$ and $a$ have different signs. Again, by IVT, the root lies within this interval. We adjust the interval to this subinterval and then repeat the process until the root is found."
   ]
  },
  {
   "cell_type": "code",
   "execution_count": 14,
   "id": "d1669b66-41c6-49d4-8a55-40a9cb95017f",
   "metadata": {},
   "outputs": [],
   "source": [
    "b = m    # adjust interval to left half "
   ]
  },
  {
   "cell_type": "code",
   "execution_count": 15,
   "id": "710a7669-071b-4a56-a792-ff60a5e3f4a4",
   "metadata": {},
   "outputs": [
    {
     "data": {
      "text/plain": [
       "(-1.0, 0.0782913822109007)"
      ]
     },
     "execution_count": 15,
     "metadata": {},
     "output_type": "execute_result"
    }
   ],
   "source": [
    "f(a), f(b)    # new interval "
   ]
  },
  {
   "cell_type": "code",
   "execution_count": 16,
   "id": "85061629-d5fe-4882-a2bd-527279f31852",
   "metadata": {},
   "outputs": [],
   "source": [
    "m = (a+b)/2    # find new midpoint"
   ]
  },
  {
   "cell_type": "code",
   "execution_count": 17,
   "id": "8308689a-0e02-42f2-9a60-a0cc2c812ca4",
   "metadata": {},
   "outputs": [
    {
     "data": {
      "text/plain": [
       "0.39269908169872414"
      ]
     },
     "execution_count": 17,
     "metadata": {},
     "output_type": "execute_result"
    }
   ],
   "source": [
    "m"
   ]
  },
  {
   "cell_type": "markdown",
   "id": "222e8033-2bab-4ce7-9460-1f4f413c8ed5",
   "metadata": {},
   "source": [
    "<br>We only care if the signs of the function evaluated at the endpoints are different. This means we can simply check this to see if $f(a)f(b) < 0$. $f(m)$ must have a different sign from exactly one of $f(a)$ or $f(b)$. "
   ]
  },
  {
   "cell_type": "code",
   "execution_count": 18,
   "id": "c0324751-d9d4-4bf3-a860-b48dee66d2b9",
   "metadata": {},
   "outputs": [
    {
     "data": {
      "text/plain": [
       "0.5311804508125626"
      ]
     },
     "execution_count": 18,
     "metadata": {},
     "output_type": "execute_result"
    }
   ],
   "source": [
    "f(a)*f(m)"
   ]
  },
  {
   "cell_type": "code",
   "execution_count": 19,
   "id": "bd79c3d0-e6c5-48c8-8440-99cb432da4f2",
   "metadata": {},
   "outputs": [
    {
     "data": {
      "text/plain": [
       "-0.04158685169752488"
      ]
     },
     "execution_count": 19,
     "metadata": {},
     "output_type": "execute_result"
    }
   ],
   "source": [
    "f(m)*f(b)"
   ]
  },
  {
   "cell_type": "markdown",
   "id": "44ff5f7e-c502-4d2f-bb27-2ffbf1a57070",
   "metadata": {},
   "source": [
    "<br>The sign changed on $(m,b)$ so we need to shift the interval to the right. "
   ]
  },
  {
   "cell_type": "code",
   "execution_count": 20,
   "id": "cffb6508-998b-4d30-a0b7-205611395634",
   "metadata": {},
   "outputs": [],
   "source": [
    "a = m "
   ]
  },
  {
   "cell_type": "code",
   "execution_count": 21,
   "id": "7cb091a8-1ffb-488c-b200-bcfb1693e8e7",
   "metadata": {},
   "outputs": [],
   "source": [
    "m = (a+b)/2"
   ]
  },
  {
   "cell_type": "markdown",
   "id": "eb7d5d43-95f5-4d8a-a1b3-45150f76c892",
   "metadata": {},
   "source": [
    "<br>Of course this was just a small exploratory demonstration to show the general idea of this method. The *practical* implementation should be done with a function. There exist a few different ways to implement this algorithm. One has already been implemented. I like the one I have now, but of course it can be improved upon at a later time, at least from a software point of view. "
   ]
  },
  {
   "cell_type": "code",
   "execution_count": 105,
   "id": "68c6d814-727a-4f9b-ae6c-9aafbfdc0989",
   "metadata": {},
   "outputs": [],
   "source": [
    "# The Bisection Method\n",
    "def bisection(f, a, b, tol):\n",
    "    ''' Function accepts as input a function f that implements f(x), the endpoints\n",
    "    a and b of an interval [a,b], and an absolute error tolerance tol. The return \n",
    "    value niter is the number of iterations (number of times the midpoint is examined). \n",
    "    '''\n",
    "    # TODO: Implement exception to make sure f does not change sign on the interval \n",
    "    if (f(a)*f(b)>0):\n",
    "        raise ValueError(\"Error: f(x) does not change signs over given interval \"\n",
    "                         \"or more than one root exists in given interval\")\n",
    "    counter = 0    # may need to be set to 1\n",
    "    while True:\n",
    "        m = (a+b)/2    # set midpoint of current interval \n",
    "        if (f(m)==0) or (b-a < (2*tol)):    # root found or error tolerance reached \n",
    "            x = m \n",
    "            niter = counter + 1\n",
    "            return x, niter    # return approximation\n",
    "        if f(a)*f(m) < 0:    # if f(a) and f(m) have different signs, shift left\n",
    "            b = m\n",
    "        else:\n",
    "            a = m    # shift right \n",
    "        counter = counter + 1"
   ]
  },
  {
   "cell_type": "code",
   "execution_count": 106,
   "id": "a7d63400-45a6-435b-852f-c35a5c1ab21a",
   "metadata": {},
   "outputs": [],
   "source": [
    "# implement function \n",
    "def f(x):\n",
    "    return (math.pow(x,3) + 4*math.pow(x,2) - 10)"
   ]
  },
  {
   "cell_type": "code",
   "execution_count": 107,
   "id": "4b761304-e4f7-463f-b1ba-dd59b31317df",
   "metadata": {},
   "outputs": [],
   "source": [
    "x,niter = bisection(f, 1, 2, 0.0001)"
   ]
  },
  {
   "cell_type": "code",
   "execution_count": 108,
   "id": "6ed4062a-18de-4ab9-bd43-eff28c9f3555",
   "metadata": {},
   "outputs": [
    {
     "data": {
      "text/plain": [
       "1.36517333984375"
      ]
     },
     "execution_count": 108,
     "metadata": {},
     "output_type": "execute_result"
    }
   ],
   "source": [
    "# approximated root\n",
    "x"
   ]
  },
  {
   "cell_type": "code",
   "execution_count": 109,
   "id": "2a31f974-4b5b-477f-8436-ce13b0785f8a",
   "metadata": {},
   "outputs": [
    {
     "data": {
      "text/plain": [
       "14"
      ]
     },
     "execution_count": 109,
     "metadata": {},
     "output_type": "execute_result"
    }
   ],
   "source": [
    "# number of iterations \n",
    "niter"
   ]
  },
  {
   "cell_type": "markdown",
   "id": "2d41ee84-07fa-464b-8e8b-31199cd38b46",
   "metadata": {},
   "source": [
    "Thus, using the bisection method, our approximation for the root of $f$ converged to 1.36517333984375 after 14 iterations with an absolute error tolerance of 0.0001."
   ]
  },
  {
   "cell_type": "code",
   "execution_count": 110,
   "id": "90a7c295-af4a-4cb5-a1eb-ba05e7891d46",
   "metadata": {},
   "outputs": [
    {
     "name": "stdout",
     "output_type": "stream",
     "text": [
      "Error: f(x) does not change signs over given interval or more than one root exists in given interval\n"
     ]
    }
   ],
   "source": [
    "# test if Exception is working properly \n",
    "try:\n",
    "    x,niter = bisection(f, 0, 1, 0.0001)\n",
    "except ValueError as err:\n",
    "    print(err)"
   ]
  },
  {
   "cell_type": "markdown",
   "id": "3942dab8-0e3b-4853-9b29-730521a3ca92",
   "metadata": {},
   "source": [
    "<br>The basic exception handling is working properly for this given function. It is up to the user to decided how they want to handle the exceptions at this point. o\n",
    "\n",
    "---\n",
    "\n",
    "### Exploration 10.2.5 \n",
    "\n",
    "The function $f(x) = x^2 - 2x - 2$ has two real roots, one positive and one negative. Find two disjoint intervals $[a_1,b_1]$ and $[a_2,b_2]$ that can be used \n",
    "to find the negative and positive roots. "
   ]
  },
  {
   "cell_type": "code",
   "execution_count": 111,
   "id": "7e3e43c6-9bfe-4fda-99e6-3d0096ffcdeb",
   "metadata": {},
   "outputs": [],
   "source": [
    "x = np.linspace(-4, 4, 1000)"
   ]
  },
  {
   "cell_type": "code",
   "execution_count": 112,
   "id": "96ee6c10-eb7b-4964-8e22-b611fe4a8ed6",
   "metadata": {},
   "outputs": [],
   "source": [
    "# implement function \n",
    "def f(x):\n",
    "    return math.pow(x,2) - (2*x) - 2"
   ]
  },
  {
   "cell_type": "code",
   "execution_count": 113,
   "id": "afc372cf-3c3f-461c-be27-d4038ce215d1",
   "metadata": {},
   "outputs": [],
   "source": [
    "# vectorize function\n",
    "vf = np.vectorize(f)"
   ]
  },
  {
   "cell_type": "code",
   "execution_count": 114,
   "id": "2b0bbe4d-88d5-48f4-91ee-ab5d4b2edac2",
   "metadata": {},
   "outputs": [
    {
     "data": {
      "image/png": "[encoded data removed]",
      "text/plain": [
       "<Figure size 640x480 with 1 Axes>"
      ]
     },
     "metadata": {},
     "output_type": "display_data"
    }
   ],
   "source": [
    "plt.plot(x, vf(x), 'k')\n",
    "plt.plot([-2,4], [0,0], 'k')    # add horizontal line at 0 across interval since this is the releveant portion of the x-axis (our root lies here)\n",
    "plt.axis([-2,4,-4,5])\n",
    "plt.title(r'$f(x)=x^2-2x-2$')\n",
    "plt.xlabel('x')\n",
    "plt.ylabel('y');"
   ]
  },
  {
   "cell_type": "markdown",
   "id": "5ef76b53-cf28-48c1-a41b-cbfdc4126bac",
   "metadata": {},
   "source": [
    "<br>Looking at the graph of this function, we can visualize the two roots, one positive and one negative. In order to find a good approximation for each, two different intervals must be used. \n",
    "By the IVT $f$ must change signs over a given interval. If we use a very large interval, it may not converge to the proper roots. "
   ]
  },
  {
   "cell_type": "code",
   "execution_count": 115,
   "id": "1a0eee62-7512-4c51-b4dd-183200b93adb",
   "metadata": {},
   "outputs": [],
   "source": [
    "# approximate negative root\n",
    "x1,niter1 = bisection(f, -1, 0, 0.00001)"
   ]
  },
  {
   "cell_type": "code",
   "execution_count": 116,
   "id": "ca4218d3-aa03-466c-98ee-a612682d8c1a",
   "metadata": {},
   "outputs": [
    {
     "data": {
      "text/plain": [
       "-0.7320480346679688"
      ]
     },
     "execution_count": 116,
     "metadata": {},
     "output_type": "execute_result"
    }
   ],
   "source": [
    "# negative root approximation \n",
    "x1"
   ]
  },
  {
   "cell_type": "code",
   "execution_count": 117,
   "id": "420de154-9a29-4e5a-ad8a-e31dc0fec2f0",
   "metadata": {},
   "outputs": [
    {
     "data": {
      "text/plain": [
       "17"
      ]
     },
     "execution_count": 117,
     "metadata": {},
     "output_type": "execute_result"
    }
   ],
   "source": [
    "# number of iterations for negative root approximation (for given error tolerance)\n",
    "niter1"
   ]
  },
  {
   "cell_type": "code",
   "execution_count": 118,
   "id": "8b3a971f-3201-401e-9fe8-d82817743a8f",
   "metadata": {},
   "outputs": [],
   "source": [
    "# approximate positive root \n",
    "x2,niter2 = bisection(f, 2, 3, 0.00001)"
   ]
  },
  {
   "cell_type": "code",
   "execution_count": 119,
   "id": "bc997e28-f885-4f16-bc02-367a342aef19",
   "metadata": {},
   "outputs": [
    {
     "data": {
      "text/plain": [
       "2.7320480346679688"
      ]
     },
     "execution_count": 119,
     "metadata": {},
     "output_type": "execute_result"
    }
   ],
   "source": [
    "# positive root approximation\n",
    "x2"
   ]
  },
  {
   "cell_type": "code",
   "execution_count": 120,
   "id": "6339f698-adb6-404a-b45d-7951e141ef3c",
   "metadata": {},
   "outputs": [
    {
     "data": {
      "text/plain": [
       "17"
      ]
     },
     "execution_count": 120,
     "metadata": {},
     "output_type": "execute_result"
    }
   ],
   "source": [
    "# number of iterations for negative root approximation (for given error tolerance)\n",
    "niter2"
   ]
  },
  {
   "cell_type": "markdown",
   "id": "4a18e576-f4cc-4370-862f-fc95f588fd71",
   "metadata": {},
   "source": [
    "<br>Thus, we can find two disjoint intervals such that we can compute approximations for both the negative and the positive roots of $f$. \n",
    "Using the interval $[-1,0]$, the bisection method converged to the negative real root.\n",
    "Using the interval $[2,3]$, the bisection method converged to the positive real root. "
   ]
  },
  {
   "cell_type": "code",
   "execution_count": 121,
   "id": "50a6eafa-66ae-4c3a-ab2b-10ab1490bc5f",
   "metadata": {},
   "outputs": [
    {
     "name": "stdout",
     "output_type": "stream",
     "text": [
      "Error: f(x) does not change signs over given interval or more than one root exists in given interval\n"
     ]
    }
   ],
   "source": [
    "# example of using a larger interval that contains both roots \n",
    "try:\n",
    "    x3,niter3 = bisection(f, -1, 3, 0.00001)\n",
    "except ValueError as err:\n",
    "    print(err)"
   ]
  },
  {
   "cell_type": "markdown",
   "id": "870d3c52-3d2d-4c75-9100-c3def2e39d0a",
   "metadata": {},
   "source": [
    "<br>The problem with attempting to use an interval that contains two or more *distinct* roots is that the if the interval is constantly being halved, then there will exist a root in each half (i.e. the algorithm won't converge) or it may stop when only one of the roots is found. Either way, this prevents both roots from being able to be approximated by the bisection method. "
   ]
  }
 ],
 "metadata": {
  "kernelspec": {
   "display_name": "Python 3 (ipykernel)",
   "language": "python",
   "name": "python3"
  },
  "language_info": {
   "codemirror_mode": {
    "name": "ipython",
    "version": 3
   },
   "file_extension": ".py",
   "mimetype": "text/x-python",
   "name": "python",
   "nbconvert_exporter": "python",
   "pygments_lexer": "ipython3",
   "version": "3.9.13"
  }
 },
 "nbformat": 4,
 "nbformat_minor": 5
}
